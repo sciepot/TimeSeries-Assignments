{
  "cells": [
    {
      "cell_type": "markdown",
      "id": "94dee1ae",
      "metadata": {
        "id": "94dee1ae"
      },
      "source": [
        "## Read Data"
      ]
    },
    {
      "cell_type": "markdown",
      "id": "9e3c03ab",
      "metadata": {
        "id": "9e3c03ab"
      },
      "source": [
        "We will use closing price data for Apple (AAPL) stock. You can use your data."
      ]
    },
    {
      "cell_type": "markdown",
      "id": "xGkjGhRfyps1",
      "metadata": {
        "id": "xGkjGhRfyps1"
      },
      "source": []
    },
    {
      "cell_type": "code",
      "execution_count": 1,
      "id": "WwqxP0POy8be",
      "metadata": {
        "id": "WwqxP0POy8be"
      },
      "outputs": [],
      "source": [
        "import numpy as np\n",
        "import matplotlib.pyplot as plt\n",
        "import pandas as pd\n",
        "import torch\n",
        "import torch.nn as nn\n",
        "from pandas import DataFrame\n",
        "from torch.autograd import Variable\n",
        "from sklearn.preprocessing import MinMaxScaler"
      ]
    },
    {
      "cell_type": "code",
      "execution_count": 2,
      "id": "0m6TFelZy8jp",
      "metadata": {
        "id": "0m6TFelZy8jp"
      },
      "outputs": [],
      "source": [
        "class LSTM(nn.Module):\n",
        "\n",
        "    def __init__(self, num_classes, input_size, hidden_size, num_layers):\n",
        "        super(LSTM, self).__init__()\n",
        "\n",
        "        self.num_classes = num_classes\n",
        "        self.num_layers = num_layers\n",
        "        self.input_size = input_size\n",
        "        self.hidden_size = hidden_size\n",
        "        self.seq_length = seq_length\n",
        "\n",
        "        self.lstm = nn.LSTM(input_size=input_size, hidden_size=hidden_size,\n",
        "                            num_layers=num_layers, batch_first=True)\n",
        "\n",
        "        self.fc = nn.Linear(hidden_size, num_classes)\n",
        "\n",
        "    def forward(self, x):\n",
        "        h_0 = Variable(torch.zeros(\n",
        "            self.num_layers, x.size(0), self.hidden_size))\n",
        "\n",
        "        c_0 = Variable(torch.zeros(\n",
        "            self.num_layers, x.size(0), self.hidden_size))\n",
        "\n",
        "        # Propagate input through LSTM\n",
        "        ula, (h_out, _) = self.lstm(x, (h_0, c_0))\n",
        "\n",
        "        h_out = h_out.view(-1, self.hidden_size)\n",
        "\n",
        "        out = self.fc(h_out)\n",
        "\n",
        "        return out"
      ]
    },
    {
      "cell_type": "code",
      "execution_count": 58,
      "id": "e82b665d",
      "metadata": {
        "id": "e82b665d"
      },
      "outputs": [],
      "source": [
        "# use your own data\n",
        "poll = 'NO2'\n",
        "NaN = np.nan\n",
        "df = pd.read_csv('./AirPollutionSeoul/Measurement_summary.csv', index_col=['Date'])\n",
        "df = df[(df[['Address']] == \"19, Jong-ro 35ga-gil, Jongno-gu, Seoul, Republic of Korea\").all(1)]\n",
        "df.index = pd.to_datetime(df.index)\n",
        "df = df.at_time('14:00')\n",
        "df.index = df.index.normalize()\n",
        "df = df[['PM10', 'O3', 'SO2', 'NO2', 'CO']]\n",
        "df[df < 0] = NaN\n",
        "new_date_range = pd.date_range(start=\"2017-01-01\", end=\"2019-12-31\", freq=\"D\")\n",
        "df = df.reindex(new_date_range, fill_value=NaN)\n",
        "df = df.interpolate()\n",
        "data = df[poll]"
      ]
    },
    {
      "cell_type": "markdown",
      "id": "e1589318",
      "metadata": {
        "id": "e1589318"
      },
      "source": [
        "## LSTM Implementation"
      ]
    },
    {
      "cell_type": "markdown",
      "id": "6ac8bf99",
      "metadata": {
        "id": "6ac8bf99"
      },
      "source": [
        "### Process Data"
      ]
    },
    {
      "cell_type": "markdown",
      "id": "6ea2ca62",
      "metadata": {
        "id": "6ea2ca62"
      },
      "source": [
        "We will create a model that predicts the next day's closing price through the 4-day closing price of Apple stock. For this, the following pre-processing is required."
      ]
    },
    {
      "cell_type": "code",
      "execution_count": 59,
      "id": "35b8de10",
      "metadata": {
        "id": "35b8de10"
      },
      "outputs": [],
      "source": [
        "def sliding_windows(data, seq_length, delay, step):\n",
        "    x = []\n",
        "    y = []\n",
        "\n",
        "    for i in range(len(data)-seq_length-delay-step):\n",
        "        _x = data[i:(i+seq_length):step]\n",
        "        _y = data[i+seq_length+delay+step]\n",
        "        x.append(_x)\n",
        "        y.append(_y)\n",
        "\n",
        "    return np.array(x), np.array(y)"
      ]
    },
    {
      "cell_type": "code",
      "execution_count": 61,
      "id": "fcf2638b",
      "metadata": {
        "id": "fcf2638b"
      },
      "outputs": [],
      "source": [
        "# min-max scale\n",
        "sc = MinMaxScaler()\n",
        "training_data = sc.fit_transform(data.values.reshape(-1, 1))\n",
        "\n",
        "\n",
        "# using previous 4 days\n",
        "seq_length = 168\n",
        "delay = 24\n",
        "step = 24\n",
        "\n",
        "x, y = sliding_windows(training_data, seq_length, delay, step)\n"
      ]
    },
    {
      "cell_type": "code",
      "execution_count": 62,
      "id": "G1HlFZWtIXlv",
      "metadata": {
        "colab": {
          "base_uri": "https://localhost:8080/",
          "height": 0
        },
        "id": "G1HlFZWtIXlv",
        "outputId": "54dc1fff-a303-4909-f2af-6d5efea73c40"
      },
      "outputs": [
        {
          "data": {
            "text/plain": [
              "array([[[0.69620253],\n",
              "        [0.48101266],\n",
              "        [0.16455696],\n",
              "        ...,\n",
              "        [0.39240506],\n",
              "        [0.36708861],\n",
              "        [0.17721519]],\n",
              "\n",
              "       [[0.44303797],\n",
              "        [0.84810127],\n",
              "        [0.37974684],\n",
              "        ...,\n",
              "        [0.41772152],\n",
              "        [0.55696203],\n",
              "        [0.13924051]],\n",
              "\n",
              "       [[0.56962025],\n",
              "        [0.16455696],\n",
              "        [0.15189873],\n",
              "        ...,\n",
              "        [0.16455696],\n",
              "        [0.40506329],\n",
              "        [0.30379747]],\n",
              "\n",
              "       ...,\n",
              "\n",
              "       [[0.2278481 ],\n",
              "        [0.26582278],\n",
              "        [0.20253165],\n",
              "        ...,\n",
              "        [0.17721519],\n",
              "        [0.2278481 ],\n",
              "        [0.18987342]],\n",
              "\n",
              "       [[0.2278481 ],\n",
              "        [0.2278481 ],\n",
              "        [0.27848101],\n",
              "        ...,\n",
              "        [0.17721519],\n",
              "        [0.26582278],\n",
              "        [0.13924051]],\n",
              "\n",
              "       [[0.30379747],\n",
              "        [0.13924051],\n",
              "        [0.50632911],\n",
              "        ...,\n",
              "        [0.36708861],\n",
              "        [0.24050633],\n",
              "        [0.17721519]]])"
            ]
          },
          "execution_count": 62,
          "metadata": {},
          "output_type": "execute_result"
        }
      ],
      "source": [
        "x"
      ]
    },
    {
      "cell_type": "markdown",
      "id": "a271ccdb",
      "metadata": {
        "id": "a271ccdb"
      },
      "source": [
        "<img src=\"https://trello.com/1/cards/637d5b489ff5ac008a2ad489/attachments/637d6ba532d829019debb8de/download/image.png\" width=700>"
      ]
    },
    {
      "cell_type": "markdown",
      "id": "7b02a65f",
      "metadata": {
        "id": "7b02a65f"
      },
      "source": [
        "As shown in the figure above, while sliding the window, you need to connect the data of the past 4 days and the future data."
      ]
    },
    {
      "cell_type": "markdown",
      "id": "417688a8",
      "metadata": {
        "id": "417688a8"
      },
      "source": [
        "Then, set an appropriate ratio as shown below to separate the train/test dataset."
      ]
    },
    {
      "cell_type": "code",
      "execution_count": 63,
      "id": "f161f730",
      "metadata": {
        "id": "f161f730"
      },
      "outputs": [],
      "source": [
        "split_ratio = 0.67\n",
        "train_size = int(len(y) * split_ratio)\n",
        "test_size = len(y) - train_size\n",
        "\n",
        "dataX = Variable(torch.Tensor(np.array(x)))\n",
        "dataY = Variable(torch.Tensor(np.array(y)))\n",
        "\n",
        "trainX = Variable(torch.Tensor(np.array(x[0:train_size])))\n",
        "trainY = Variable(torch.Tensor(np.array(y[0:train_size])))\n",
        "\n",
        "testX = Variable(torch.Tensor(np.array(x[train_size:len(x)])))\n",
        "testY = Variable(torch.Tensor(np.array(y[train_size:len(y)])))"
      ]
    },
    {
      "cell_type": "markdown",
      "id": "8deaa3c6",
      "metadata": {
        "id": "8deaa3c6"
      },
      "source": [
        "### Define Model and Settings"
      ]
    },
    {
      "cell_type": "markdown",
      "id": "936c14c8",
      "metadata": {
        "id": "936c14c8"
      },
      "source": [
        "To use the LSTM network, we need to set the dimensions and other parameters that fit the data we have prepared. You can easily understand through the picture below."
      ]
    },
    {
      "cell_type": "code",
      "execution_count": 64,
      "id": "7f08f460",
      "metadata": {
        "id": "7f08f460"
      },
      "outputs": [],
      "source": [
        "input_size = 1\n",
        "hidden_size = 2\n",
        "num_layers = 1\n",
        "num_classes = 1\n",
        "\n",
        "lstm = LSTM(num_classes, input_size, hidden_size, num_layers)"
      ]
    },
    {
      "cell_type": "markdown",
      "id": "0a4c1760",
      "metadata": {
        "id": "0a4c1760"
      },
      "source": [
        "<img src=\"https://trello.com/1/cards/637d5b489ff5ac008a2ad489/attachments/637d6bbcea5f9800374e23c5/download/image.png\" width=700>"
      ]
    },
    {
      "cell_type": "markdown",
      "id": "e838a277",
      "metadata": {
        "id": "e838a277"
      },
      "source": [
        "In order to learn the parameters of the model, a criterion is needed to define the difference between the predicted value and the actual value of the model. You can set which loss metric to use through `criterion`.\n",
        "\n",
        "Also, an `optimizer` is needed to adjust the parameters to reduce the loss. Here, <a href=\"#References\" data-toc-modified-id=\"References-3\"><span class=\"toc-item-num\"></span>Adam</a> optimizer is used."
      ]
    },
    {
      "cell_type": "code",
      "execution_count": 65,
      "id": "9734e6ee",
      "metadata": {
        "id": "9734e6ee"
      },
      "outputs": [],
      "source": []
    },
    {
      "cell_type": "markdown",
      "id": "4846ca13",
      "metadata": {
        "id": "4846ca13"
      },
      "source": [
        "### Model Training"
      ]
    },
    {
      "cell_type": "markdown",
      "id": "0788a37e",
      "metadata": {
        "id": "0788a37e"
      },
      "source": [
        "By setting the epoch, we can train the model as follows."
      ]
    },
    {
      "cell_type": "code",
      "execution_count": 72,
      "id": "5c2b05cf",
      "metadata": {
        "colab": {
          "base_uri": "https://localhost:8080/",
          "height": 0
        },
        "id": "5c2b05cf",
        "outputId": "56511059-7582-4034-d1da-a6dfda9b0fdf",
        "scrolled": true
      },
      "outputs": [
        {
          "name": "stdout",
          "output_type": "stream",
          "text": [
            "Epoch: 0, loss: 0.03057\n",
            "Epoch: 50, loss: 0.03057\n",
            "Epoch: 100, loss: 0.03057\n",
            "Epoch: 150, loss: 0.03057\n",
            "Epoch: 200, loss: 0.03057\n",
            "Epoch: 250, loss: 0.03057\n",
            "Epoch: 300, loss: 0.03057\n",
            "Epoch: 350, loss: 0.03057\n",
            "Epoch: 400, loss: 0.03057\n",
            "Epoch: 450, loss: 0.03057\n"
          ]
        }
      ],
      "source": [
        "# Loss and Optimizer Setting\n",
        "criterion = torch.nn.MSELoss()    # mean-squared error for regression\n",
        "\n",
        "learning_rate = 0.0001\n",
        "optimizer = torch.optim.Adam(lstm.parameters(), lr=learning_rate)\n",
        "\n",
        "# You can use other Optimizers\n",
        "#optimizer = torch.optim.SGD(lstm.parameters(), lr=learning_rate)\n",
        "num_epochs = 500\n",
        "\n",
        "# Train the model\n",
        "for epoch in range(num_epochs):\n",
        "    outputs = lstm(trainX)\n",
        "    optimizer.zero_grad()\n",
        "    \n",
        "    # obtain the loss function\n",
        "    loss = criterion(outputs, trainY)\n",
        "    loss.backward()\n",
        "    optimizer.step()\n",
        "    \n",
        "    if epoch % 50 == 0:\n",
        "        print(\"Epoch: %d, loss: %1.5f\" % (epoch, loss.item()))"
      ]
    },
    {
      "cell_type": "code",
      "execution_count": 74,
      "id": "9ec2443c",
      "metadata": {
        "colab": {
          "base_uri": "https://localhost:8080/",
          "height": 294
        },
        "id": "9ec2443c",
        "outputId": "10f0c6d2-7a8f-4e31-b5db-5620d6a65a7c"
      },
      "outputs": [
        {
          "data": {
            "image/png": "[encoded data removed]",
            "text/plain": [
              "<Figure size 640x480 with 1 Axes>"
            ]
          },
          "metadata": {},
          "output_type": "display_data"
        }
      ],
      "source": [
        "lstm.eval()\n",
        "train_predict = lstm(dataX)\n",
        "\n",
        "data_predict = train_predict.data.numpy()\n",
        "dataY_plot = dataY.data.numpy()\n",
        "\n",
        "data_predict = sc.inverse_transform(data_predict)\n",
        "dataY_plot = sc.inverse_transform(dataY_plot)\n",
        "\n",
        "\n",
        "plt.axvline(x=len(dataX) * split_ratio, c='r', linestyle='--')\n",
        "\n",
        "plt.plot(dataY_plot)\n",
        "plt.plot(data_predict)\n",
        "plt.suptitle('Time-Series Prediction')\n",
        "plt.show()"
      ]
    },
    {
      "cell_type": "markdown",
      "id": "68f63c5f",
      "metadata": {
        "id": "68f63c5f"
      },
      "source": [
        "The predicted values ​​of the model do not explain the actual values ​​well. \n",
        "\n",
        "1.   항목 추가\n",
        "2.   항목 추가\n",
        "\n",
        "So, let's move on to further training."
      ]
    },
    {
      "cell_type": "markdown",
      "id": "a2d4dc04",
      "metadata": {
        "id": "a2d4dc04"
      },
      "source": [
        "## References"
      ]
    },
    {
      "cell_type": "markdown",
      "id": "b1436c5f",
      "metadata": {
        "id": "b1436c5f"
      },
      "source": [
        "Hochreiter, S., & Schmidhuber, J. (1997). [Long short-term memory](http://www.bioinf.jku.at/publications/older/2604.pdf). Neural computation, 9(8), 1735–1780. <br>\n",
        "Kingma, D.P., & Ba, J. (2015). [Adam: A Method for Stochastic Optimization](https://arxiv.org/pdf/1412.6980.pdf). CoRR, abs/1412.6980. <br>\n",
        "Zhang, A., Lipton, Z. C., Li, M., & Smola, A. J. (2021). [Dive into Deep Learning](https://d2l.ai/). ArXiv Preprint ArXiv:2106.11342."
      ]
    }
  ],
  "metadata": {
    "colab": {
      "provenance": []
    },
    "kernelspec": {
      "display_name": "Python 3",
      "language": "python",
      "name": "python3"
    },
    "language_info": {
      "codemirror_mode": {
        "name": "ipython",
        "version": 3
      },
      "file_extension": ".py",
      "mimetype": "text/x-python",
      "name": "python",
      "nbconvert_exporter": "python",
      "pygments_lexer": "ipython3",
      "version": "3.10.3"
    },
    "toc": {
      "base_numbering": 1,
      "nav_menu": {},
      "number_sections": false,
      "sideBar": true,
      "skip_h1_title": true,
      "title_cell": "Table of Contents",
      "title_sidebar": "Contents",
      "toc_cell": true,
      "toc_position": {},
      "toc_section_display": true,
      "toc_window_display": true
    },
    "vscode": {
      "interpreter": {
        "hash": "dedbd1205eba0282b31e8fceacbbfffe3d888b078d22e9247c93bbadb604f37b"
      }
    }
  },
  "nbformat": 4,
  "nbformat_minor": 5
}
